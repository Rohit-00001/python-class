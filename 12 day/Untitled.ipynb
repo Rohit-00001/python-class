{
 "cells": [
  {
   "cell_type": "markdown",
   "id": "ce5635c1",
   "metadata": {},
   "source": [
    "### string\n"
   ]
  },
  {
   "cell_type": "code",
   "execution_count": 1,
   "id": "15657771",
   "metadata": {},
   "outputs": [
    {
     "name": "stdout",
     "output_type": "stream",
     "text": [
      "i'm writing python code\n",
      "<class 'str'>\n"
     ]
    }
   ],
   "source": [
    "val = \"i'm writing python code\"\n",
    "print(val)\n",
    "print(type(val))"
   ]
  },
  {
   "cell_type": "code",
   "execution_count": 3,
   "id": "2a166f31",
   "metadata": {},
   "outputs": [
    {
     "data": {
      "text/plain": [
       "'t'"
      ]
     },
     "execution_count": 3,
     "metadata": {},
     "output_type": "execute_result"
    }
   ],
   "source": [
    "index = \"python\"\n",
    "index[2]"
   ]
  },
  {
   "cell_type": "code",
   "execution_count": 4,
   "id": "46af8c99",
   "metadata": {},
   "outputs": [
    {
     "data": {
      "text/plain": [
       "'n'"
      ]
     },
     "execution_count": 4,
     "metadata": {},
     "output_type": "execute_result"
    }
   ],
   "source": [
    "index[-1]"
   ]
  },
  {
   "cell_type": "code",
   "execution_count": 7,
   "id": "192e9bfb",
   "metadata": {},
   "outputs": [
    {
     "data": {
      "text/plain": [
       "'i'"
      ]
     },
     "execution_count": 7,
     "metadata": {},
     "output_type": "execute_result"
    }
   ],
   "source": [
    "#slicing ---> substring from the original string\n",
    "\n",
    "# name[startindex : stopindex + 1 : steps]\n",
    "\n",
    "x = \"this is apple\"\n",
    "x[5 : 6 : 1]"
   ]
  },
  {
   "cell_type": "code",
   "execution_count": 10,
   "id": "9a902d08",
   "metadata": {},
   "outputs": [
    {
     "data": {
      "text/plain": [
       "'yks eht si siht'"
      ]
     },
     "execution_count": 10,
     "metadata": {},
     "output_type": "execute_result"
    }
   ],
   "source": [
    "x = \"this is the sky\"\n",
    "x[::-1]"
   ]
  },
  {
   "cell_type": "code",
   "execution_count": 14,
   "id": "b652d8d7",
   "metadata": {},
   "outputs": [
    {
     "data": {
      "text/plain": [
       "'his is the sky'"
      ]
     },
     "execution_count": 14,
     "metadata": {},
     "output_type": "execute_result"
    }
   ],
   "source": [
    "x = \"this is the sky\"\n",
    "x[1::1]"
   ]
  },
  {
   "cell_type": "code",
   "execution_count": 16,
   "id": "593cd583",
   "metadata": {},
   "outputs": [
    {
     "data": {
      "text/plain": [
       "'his is the sky'"
      ]
     },
     "execution_count": 16,
     "metadata": {},
     "output_type": "execute_result"
    }
   ],
   "source": [
    "x = \"this is the sky\"\n",
    "x[1: :1]"
   ]
  },
  {
   "cell_type": "code",
   "execution_count": null,
   "id": "465bbf98",
   "metadata": {},
   "outputs": [],
   "source": [
    "srting = \"welcome to my blog\"\n",
    " 1.\"loet\"\n",
    " 2.\"om lg\"\n",
    " 3.\"wloet\"  \n",
    " 4.\"emoclew\"\n",
    "\n",
    "\n",
    "\n",
    "string2 = \"tasty apple\"\n",
    "1.\"tasty\"\n",
    "2.\"elppa\"\n",
    "3.\"sat\""
   ]
  },
  {
   "cell_type": "code",
   "execution_count": 18,
   "id": "19493c0a",
   "metadata": {},
   "outputs": [
    {
     "data": {
      "text/plain": [
       "'WELCOME TO MY BLOG'"
      ]
     },
     "execution_count": 18,
     "metadata": {},
     "output_type": "execute_result"
    }
   ],
   "source": [
    "s = \"welcome to my blog\"\n",
    "s.upper()"
   ]
  },
  {
   "cell_type": "code",
   "execution_count": 19,
   "id": "e19727d0",
   "metadata": {},
   "outputs": [
    {
     "name": "stdout",
     "output_type": "stream",
     "text": [
      "welcome to my blog\n"
     ]
    }
   ],
   "source": [
    "print(s)"
   ]
  },
  {
   "cell_type": "code",
   "execution_count": 21,
   "id": "29fc6a3b",
   "metadata": {},
   "outputs": [
    {
     "name": "stdout",
     "output_type": "stream",
     "text": [
      "WELCOME TO MY BLOG\n"
     ]
    },
    {
     "data": {
      "text/plain": [
       "'welcome to my blog'"
      ]
     },
     "execution_count": 21,
     "metadata": {},
     "output_type": "execute_result"
    }
   ],
   "source": [
    "s = \"WELCOME TO MY BLOG\"\n",
    "print(s)\n",
    "s.lower()\n"
   ]
  },
  {
   "cell_type": "code",
   "execution_count": 22,
   "id": "89ff0a70",
   "metadata": {},
   "outputs": [
    {
     "data": {
      "text/plain": [
       "'welcome to my blog'"
      ]
     },
     "execution_count": 22,
     "metadata": {},
     "output_type": "execute_result"
    }
   ],
   "source": [
    "s = \"Welcome To My Blog\"\n",
    "s.casefold()"
   ]
  },
  {
   "cell_type": "code",
   "execution_count": 25,
   "id": "e0beabbf",
   "metadata": {},
   "outputs": [
    {
     "data": {
      "text/plain": [
       "1"
      ]
     },
     "execution_count": 25,
     "metadata": {},
     "output_type": "execute_result"
    }
   ],
   "source": [
    "s = \"Welcome To My Blog\"\n",
    "s.count('el')"
   ]
  },
  {
   "cell_type": "code",
   "execution_count": 29,
   "id": "4bd05967",
   "metadata": {},
   "outputs": [
    {
     "data": {
      "text/plain": [
       "-1"
      ]
     },
     "execution_count": 29,
     "metadata": {},
     "output_type": "execute_result"
    }
   ],
   "source": [
    "s = \"Welcome To My Blog\"\n",
    "s.find('z')"
   ]
  },
  {
   "cell_type": "code",
   "execution_count": 30,
   "id": "ebe09fc3",
   "metadata": {},
   "outputs": [
    {
     "data": {
      "text/plain": [
       "'Welcome To My Blog'"
      ]
     },
     "execution_count": 30,
     "metadata": {},
     "output_type": "execute_result"
    }
   ],
   "source": [
    "s = \"     Welcome To My Blog       \"\n",
    "s.strip()"
   ]
  },
  {
   "cell_type": "code",
   "execution_count": 32,
   "id": "ae9fcc77",
   "metadata": {},
   "outputs": [
    {
     "data": {
      "text/plain": [
       "'Welcome To My Blog       '"
      ]
     },
     "execution_count": 32,
     "metadata": {},
     "output_type": "execute_result"
    }
   ],
   "source": [
    "s.rstrip()\n",
    "s.lstrip()\n"
   ]
  },
  {
   "cell_type": "code",
   "execution_count": 44,
   "id": "6e2b9969",
   "metadata": {},
   "outputs": [
    {
     "data": {
      "text/plain": [
       "['Welcome', 'To', 'my', 'blog']"
      ]
     },
     "execution_count": 44,
     "metadata": {},
     "output_type": "execute_result"
    }
   ],
   "source": [
    "s=\"Welcome-To-my-blog\"\n",
    "s.split('-')"
   ]
  },
  {
   "cell_type": "code",
   "execution_count": 48,
   "id": "ca7fd325",
   "metadata": {},
   "outputs": [
    {
     "data": {
      "text/plain": [
       "'Welcome🚀To🚀my🚀blog'"
      ]
     },
     "execution_count": 48,
     "metadata": {},
     "output_type": "execute_result"
    }
   ],
   "source": [
    "x= ['Welcome', 'To', 'my', 'blog']\n",
    "'🚀'.join(x)"
   ]
  },
  {
   "cell_type": "code",
   "execution_count": 49,
   "id": "bda42bba",
   "metadata": {},
   "outputs": [
    {
     "data": {
      "text/plain": [
       "'Welcome To My code'"
      ]
     },
     "execution_count": 49,
     "metadata": {},
     "output_type": "execute_result"
    }
   ],
   "source": [
    "x = 'Welcome To My Blog'\n",
    "x.replace('Blog', \"code\")"
   ]
  },
  {
   "cell_type": "code",
   "execution_count": 51,
   "id": "ec683dfc",
   "metadata": {},
   "outputs": [
    {
     "data": {
      "text/plain": [
       "True"
      ]
     },
     "execution_count": 51,
     "metadata": {},
     "output_type": "execute_result"
    }
   ],
   "source": [
    "x.startswith('W')"
   ]
  },
  {
   "cell_type": "code",
   "execution_count": 52,
   "id": "fb1570db",
   "metadata": {},
   "outputs": [
    {
     "data": {
      "text/plain": [
       "True"
      ]
     },
     "execution_count": 52,
     "metadata": {},
     "output_type": "execute_result"
    }
   ],
   "source": [
    "x.endswith(\"g\")"
   ]
  },
  {
   "cell_type": "code",
   "execution_count": 54,
   "id": "a7443c27",
   "metadata": {},
   "outputs": [
    {
     "data": {
      "text/plain": [
       "True"
      ]
     },
     "execution_count": 54,
     "metadata": {},
     "output_type": "execute_result"
    }
   ],
   "source": [
    "\"232\".isdigit()"
   ]
  },
  {
   "cell_type": "code",
   "execution_count": 57,
   "id": "ee6663f1",
   "metadata": {},
   "outputs": [
    {
     "data": {
      "text/plain": [
       "False"
      ]
     },
     "execution_count": 57,
     "metadata": {},
     "output_type": "execute_result"
    }
   ],
   "source": [
    "\"11\".isspace()"
   ]
  },
  {
   "cell_type": "code",
   "execution_count": 60,
   "id": "810d2a70",
   "metadata": {},
   "outputs": [
    {
     "data": {
      "text/plain": [
       "True"
      ]
     },
     "execution_count": 60,
     "metadata": {},
     "output_type": "execute_result"
    }
   ],
   "source": [
    "\"12\".isnumeric()\n"
   ]
  },
  {
   "cell_type": "code",
   "execution_count": 64,
   "id": "5ead3908",
   "metadata": {},
   "outputs": [
    {
     "data": {
      "text/plain": [
       "True"
      ]
     },
     "execution_count": 64,
     "metadata": {},
     "output_type": "execute_result"
    }
   ],
   "source": [
    "\"skhdhbfbhds1782386123\".isalnum()"
   ]
  },
  {
   "cell_type": "code",
   "execution_count": null,
   "id": "e854c8b1",
   "metadata": {},
   "outputs": [],
   "source": []
  },
  {
   "cell_type": "code",
   "execution_count": null,
   "id": "9a8efe54",
   "metadata": {},
   "outputs": [],
   "source": []
  },
  {
   "cell_type": "markdown",
   "id": "16aeab65",
   "metadata": {},
   "source": [
    "### conditionals"
   ]
  },
  {
   "cell_type": "code",
   "execution_count": 72,
   "id": "0a25379b",
   "metadata": {},
   "outputs": [
    {
     "name": "stdout",
     "output_type": "stream",
     "text": [
      "true\n"
     ]
    }
   ],
   "source": [
    "#if cond:\n",
    "   # statements\n",
    "    \n",
    "    \n",
    "if 2>1:\n",
    "    print(\"true\")\n",
    "    "
   ]
  },
  {
   "cell_type": "markdown",
   "id": "cf1f6a83",
   "metadata": {},
   "source": [
    "### types of conditional statements\n",
    "<li>single/simple if</li>\n",
    "<li>id-else</li>\n",
    "<li>Nested if\n",
    "<li>if-elif-else</li>"
   ]
  },
  {
   "cell_type": "code",
   "execution_count": 74,
   "id": "fd434b05",
   "metadata": {},
   "outputs": [
    {
     "name": "stdout",
     "output_type": "stream",
     "text": [
      "true\n"
     ]
    }
   ],
   "source": [
    "#if statement\n",
    "if 2>1:\n",
    "    print(\"true\")"
   ]
  },
  {
   "cell_type": "code",
   "execution_count": 76,
   "id": "dc0a8f52",
   "metadata": {},
   "outputs": [
    {
     "name": "stdout",
     "output_type": "stream",
     "text": [
      "enter value1\n"
     ]
    }
   ],
   "source": [
    "n = int(input(\"enter value\"))\n",
    "if n>18:\n",
    "    print(\"eligible for vote\")"
   ]
  },
  {
   "cell_type": "code",
   "execution_count": 78,
   "id": "e3122fb4",
   "metadata": {},
   "outputs": [
    {
     "name": "stdout",
     "output_type": "stream",
     "text": [
      "enter value1\n",
      "not eligible for vote\n"
     ]
    }
   ],
   "source": [
    "#if-else\n",
    "n = int(input(\"enter value\"))\n",
    "if n>18:\n",
    "    print(\"eligible for vote\")\n",
    "else:\n",
    "    print(\"not eligible for vote\")\n",
    "\n",
    "    "
   ]
  },
  {
   "cell_type": "code",
   "execution_count": 13,
   "id": "67cae063",
   "metadata": {},
   "outputs": [
    {
     "name": "stdout",
     "output_type": "stream",
     "text": [
      "enter value-11\n",
      "odd and -ve\n"
     ]
    }
   ],
   "source": [
    "#nested if\n",
    "n = int(input(\"enter value\"))\n",
    "if n%2==0:\n",
    "    if n>0:\n",
    "        print(\"Even and +ve\")\n",
    "    else:\n",
    "        print(\"Even and -ve\")\n",
    "\n",
    "else:\n",
    "    if(n>0):\n",
    "         print(\"odd and +ve\")\n",
    "    else:\n",
    "        print(\"odd and -ve\")"
   ]
  },
  {
   "cell_type": "code",
   "execution_count": 7,
   "id": "72c87ceb",
   "metadata": {},
   "outputs": [],
   "source": [
    "    #if-elif-else\n",
    "    if cond1:\n",
    "        statements\n",
    "    elif condition2:\n",
    "        statements\n",
    "    elif cond3:\n",
    "        statements\n",
    "    else:\n",
    "        staements"
   ]
  },
  {
   "cell_type": "code",
   "execution_count": 16,
   "id": "3cdd06e3",
   "metadata": {},
   "outputs": [
    {
     "name": "stdout",
     "output_type": "stream",
     "text": [
      "enter value0\n",
      "neither +ve nor -ve\n"
     ]
    }
   ],
   "source": [
    "n = int(input(\"enter value\"))\n",
    "if n>0:\n",
    "    print(\"+ve\")\n",
    "elif n<0:\n",
    "    print(\"-ve\")\n",
    "else:\n",
    "    print(\"neither +ve nor -ve\")"
   ]
  },
  {
   "cell_type": "code",
   "execution_count": null,
   "id": "04b31a29",
   "metadata": {},
   "outputs": [],
   "source": []
  }
 ],
 "metadata": {
  "kernelspec": {
   "display_name": "Python 3 (ipykernel)",
   "language": "python",
   "name": "python3"
  },
  "language_info": {
   "codemirror_mode": {
    "name": "ipython",
    "version": 3
   },
   "file_extension": ".py",
   "mimetype": "text/x-python",
   "name": "python",
   "nbconvert_exporter": "python",
   "pygments_lexer": "ipython3",
   "version": "3.11.5"
  }
 },
 "nbformat": 4,
 "nbformat_minor": 5
}
