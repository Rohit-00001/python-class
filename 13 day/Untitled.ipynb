{
 "cells": [
  {
   "cell_type": "markdown",
   "id": "399e7c23",
   "metadata": {},
   "source": [
    "### LOOP ---> Something that repeats continuously on the basis of some condition"
   ]
  },
  {
   "cell_type": "code",
   "execution_count": 4,
   "id": "f791ac79",
   "metadata": {},
   "outputs": [
    {
     "name": "stdout",
     "output_type": "stream",
     "text": [
      "chocolate\n",
      "chocolate\n",
      "chocolate\n",
      "chocolate\n",
      "chocolate\n"
     ]
    }
   ],
   "source": [
    "print(\"chocolate\")\n",
    "print(\"chocolate\")\n",
    "print(\"chocolate\")\n",
    "print(\"chocolate\")\n",
    "\n",
    "print(\"chocolate\")"
   ]
  },
  {
   "cell_type": "markdown",
   "id": "16ff9440",
   "metadata": {},
   "source": [
    "#initialisation\n",
    "#condition\n",
    "#statements \n",
    "#increment/decrement\n",
    "# syntax:\n",
    "               initialisation\n",
    "                while condition:\n",
    "                    statements\n",
    "                    ---------\n",
    "                increment/decrement\"\"\""
   ]
  },
  {
   "cell_type": "code",
   "execution_count": 13,
   "id": "5de7244c",
   "metadata": {},
   "outputs": [
    {
     "name": "stdout",
     "output_type": "stream",
     "text": [
      "chocolate\n",
      "chocolate\n",
      "chocolate\n",
      "chocolate\n",
      "chocolate\n",
      "out of while loop\n"
     ]
    }
   ],
   "source": [
    "x = 5\n",
    "while x>=1:\n",
    "    print(\"chocolate\")\n",
    "    x=x-1\n",
    "print(\"out of while loop\")"
   ]
  },
  {
   "cell_type": "code",
   "execution_count": 21,
   "id": "5180406e",
   "metadata": {},
   "outputs": [
    {
     "name": "stdout",
     "output_type": "stream",
     "text": [
      "20,19,18,17,16,15,14,13,12,11,10,9,8,7,6,5,4,3,2,1,"
     ]
    }
   ],
   "source": [
    "n = 20\n",
    "while n >= 1:\n",
    "    print(n,end=\",\")\n",
    "    n-=1"
   ]
  },
  {
   "cell_type": "code",
   "execution_count": 25,
   "id": "585a5528",
   "metadata": {},
   "outputs": [
    {
     "name": "stdout",
     "output_type": "stream",
     "text": [
      "1 3 5 7 9 11 13 15 17 19 21 23 25 27 29 31 33 35 37 39 41 43 45 47 49 51 53 55 57 59 61 63 65 67 69 71 73 75 77 79 81 83 85 87 89 91 93 95 97 99 101 103 105 107 109 111 113 115 117 119 121 123 125 127 129 131 133 135 137 139 141 143 145 147 149 151 153 155 157 159 161 163 165 167 169 171 173 175 177 179 181 183 185 187 189 191 193 195 197 199 "
     ]
    }
   ],
   "source": [
    "#1-100 ---> even numbers\n",
    "\n",
    "num = 1\n",
    "while num<=200:\n",
    "    if num%2!=0:\n",
    "        print(num, end=\" \")\n",
    "    num +=1\n"
   ]
  },
  {
   "cell_type": "code",
   "execution_count": null,
   "id": "7f860cd6",
   "metadata": {},
   "outputs": [],
   "source": []
  }
 ],
 "metadata": {
  "kernelspec": {
   "display_name": "Python 3 (ipykernel)",
   "language": "python",
   "name": "python3"
  },
  "language_info": {
   "codemirror_mode": {
    "name": "ipython",
    "version": 3
   },
   "file_extension": ".py",
   "mimetype": "text/x-python",
   "name": "python",
   "nbconvert_exporter": "python",
   "pygments_lexer": "ipython3",
   "version": "3.11.5"
  }
 },
 "nbformat": 4,
 "nbformat_minor": 5
}
