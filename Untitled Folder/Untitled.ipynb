{
 "cells": [
  {
   "cell_type": "code",
   "execution_count": 1,
   "id": "4ee05f84",
   "metadata": {},
   "outputs": [
    {
     "name": "stdout",
     "output_type": "stream",
     "text": [
      "helo\n"
     ]
    }
   ],
   "source": [
    "print(\"helo\")"
   ]
  },
  {
   "cell_type": "code",
   "execution_count": 2,
   "id": "fc4ca9d6",
   "metadata": {},
   "outputs": [
    {
     "name": "stdout",
     "output_type": "stream",
     "text": [
      "hello\n"
     ]
    }
   ],
   "source": [
    "print(\"hello\")"
   ]
  },
  {
   "cell_type": "code",
   "execution_count": 3,
   "id": "86e14eab",
   "metadata": {},
   "outputs": [
    {
     "name": "stdout",
     "output_type": "stream",
     "text": [
      "\n",
      "Here is a list of the Python keywords.  Enter any keyword to get more help.\n",
      "\n",
      "False               class               from                or\n",
      "None                continue            global              pass\n",
      "True                def                 if                  raise\n",
      "and                 del                 import              return\n",
      "as                  elif                in                  try\n",
      "assert              else                is                  while\n",
      "async               except              lambda              with\n",
      "await               finally             nonlocal            yield\n",
      "break               for                 not                 \n",
      "\n"
     ]
    }
   ],
   "source": [
    "help(\"keywords\")"
   ]
  },
  {
   "cell_type": "code",
   "execution_count": 5,
   "id": "f125b4f7",
   "metadata": {},
   "outputs": [
    {
     "name": "stdout",
     "output_type": "stream",
     "text": [
      "<class 'str'>\n"
     ]
    }
   ],
   "source": [
    "name =\" name\"\n",
    "print(type(name))"
   ]
  },
  {
   "cell_type": "code",
   "execution_count": 7,
   "id": "bd84a866",
   "metadata": {},
   "outputs": [
    {
     "name": "stdout",
     "output_type": "stream",
     "text": [
      "<class 'NoneType'>\n"
     ]
    }
   ],
   "source": [
    "age = None\n",
    "print(type(age))"
   ]
  },
  {
   "cell_type": "markdown",
   "id": "e5aca377",
   "metadata": {},
   "source": [
    "### intger, string , float , boolean , None"
   ]
  },
  {
   "cell_type": "code",
   "execution_count": 10,
   "id": "adb20b27",
   "metadata": {},
   "outputs": [
    {
     "name": "stdout",
     "output_type": "stream",
     "text": [
      "<class 'str'>\n"
     ]
    }
   ],
   "source": [
    "name = \"\"\"asg\"\"\"\n",
    "print(type(name))"
   ]
  },
  {
   "cell_type": "markdown",
   "id": "5951fce4",
   "metadata": {},
   "source": [
    "# heading\n",
    "adkjfbadf\n",
    "<li>this is a list</li>"
   ]
  },
  {
   "cell_type": "code",
   "execution_count": 13,
   "id": "fc998e94",
   "metadata": {},
   "outputs": [
    {
     "name": "stdout",
     "output_type": "stream",
     "text": [
      "Rohit\n"
     ]
    }
   ],
   "source": [
    "name = \"Rohit\"\n",
    "age = \" 20\"\n",
    "salary = \"123456\"\n",
    "salaryReceived = None\n",
    "print(name)"
   ]
  },
  {
   "cell_type": "markdown",
   "id": "1cc0e705",
   "metadata": {},
   "source": [
    "'''hello\n",
    "ajdbfjadsbf\n",
    "aslkfnadsf\n",
    "alskfnads'''"
   ]
  },
  {
   "cell_type": "code",
   "execution_count": 15,
   "id": "a6e40737",
   "metadata": {},
   "outputs": [
    {
     "name": "stdout",
     "output_type": "stream",
     "text": [
      "20\n"
     ]
    }
   ],
   "source": [
    "a =10\n",
    "b= 10\n",
    "print(a+b)"
   ]
  },
  {
   "cell_type": "code",
   "execution_count": 22,
   "id": "41d973e9",
   "metadata": {},
   "outputs": [
    {
     "name": "stdout",
     "output_type": "stream",
     "text": [
      "15\n"
     ]
    }
   ],
   "source": [
    "a= a+1\n",
    "print(a)"
   ]
  },
  {
   "cell_type": "code",
   "execution_count": null,
   "id": "97c71769",
   "metadata": {},
   "outputs": [],
   "source": [
    ". Write a program to perform arithmetic operation.(+,-,\\*,/,%)\n",
    "\n",
    ". Write a program to display the area of a triangle.\n",
    "\n",
    ". Write a program to display area of a square.\n",
    "\n",
    ". Write a program to display area of a circle."
   ]
  },
  {
   "cell_type": "code",
   "execution_count": 1,
   "id": "9961dff2",
   "metadata": {},
   "outputs": [
    {
     "ename": "SyntaxError",
     "evalue": "illegal target for annotation (2489253945.py, line 3)",
     "output_type": "error",
     "traceback": [
      "\u001b[1;36m  Cell \u001b[1;32mIn[1], line 3\u001b[1;36m\u001b[0m\n\u001b[1;33m    - Number : 1234, 3.1415, 3+4j, 0b111, Decimal(),\u001b[0m\n\u001b[1;37m    ^\u001b[0m\n\u001b[1;31mSyntaxError\u001b[0m\u001b[1;31m:\u001b[0m illegal target for annotation\n"
     ]
    }
   ],
   "source": [
    "# Data Types\n",
    "\n",
    "- Number : 1234, 3.1415, 3+4j, 0b111, Decimal(),\n",
    "- String : 'spam', \"python\"\n",
    "- List :   [1,23,4234,] ,[1, [2, 'three'], 4.5]\n",
    "- Tuple : (1, 'spam', 4, 'U'), tuple('spam'), namedtuple\n",
    "- Dictionary : {\n",
    "    'food': 'ok', \n",
    "    'taste': 'good'\n",
    "}\n",
    "    \n",
    "    \n",
    "\n",
    "- Set : set('abc'), {'a', 'b', 'c'}\n",
    "    \n"
   ]
  },
  {
   "cell_type": "code",
   "execution_count": 2,
   "id": "12abc1b8",
   "metadata": {},
   "outputs": [
    {
     "data": {
      "text/plain": [
       "25"
      ]
     },
     "execution_count": 2,
     "metadata": {},
     "output_type": "execute_result"
    }
   ],
   "source": [
    "nums = [25, 12, 36, 95, 14]\n",
    "nums[0]"
   ]
  },
  {
   "cell_type": "code",
   "execution_count": 3,
   "id": "6b5385ab",
   "metadata": {},
   "outputs": [
    {
     "ename": "SyntaxError",
     "evalue": "invalid syntax (111623079.py, line 1)",
     "output_type": "error",
     "traceback": [
      "\u001b[1;36m  Cell \u001b[1;32mIn[3], line 1\u001b[1;36m\u001b[0m\n\u001b[1;33m    nums.\u001b[0m\n\u001b[1;37m         ^\u001b[0m\n\u001b[1;31mSyntaxError\u001b[0m\u001b[1;31m:\u001b[0m invalid syntax\n"
     ]
    }
   ],
   "source": [
    "nums."
   ]
  },
  {
   "cell_type": "code",
   "execution_count": null,
   "id": "af3c6129",
   "metadata": {},
   "outputs": [],
   "source": [
    "nums."
   ]
  }
 ],
 "metadata": {
  "kernelspec": {
   "display_name": "Python 3 (ipykernel)",
   "language": "python",
   "name": "python3"
  },
  "language_info": {
   "codemirror_mode": {
    "name": "ipython",
    "version": 3
   },
   "file_extension": ".py",
   "mimetype": "text/x-python",
   "name": "python",
   "nbconvert_exporter": "python",
   "pygments_lexer": "ipython3",
   "version": "3.11.5"
  }
 },
 "nbformat": 4,
 "nbformat_minor": 5
}
