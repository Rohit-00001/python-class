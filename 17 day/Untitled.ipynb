{
 "cells": [
  {
   "cell_type": "markdown",
   "id": "ba4fa635",
   "metadata": {},
   "source": [
    "### oops : object oriented programming is a way of computer programming using the ideas of \"objects \" to represents data and methods "
   ]
  },
  {
   "cell_type": "markdown",
   "id": "6fb40e44",
   "metadata": {},
   "source": [
    "### object : an object is an real world entity that has some attributes and behavious\n",
    "### class : it is a desgin/ blueprint"
   ]
  },
  {
   "cell_type": "code",
   "execution_count": null,
   "id": "31e64a47",
   "metadata": {},
   "outputs": [],
   "source": [
    "class class_name:\n",
    "    statements...\n",
    "    ........\n",
    "    variables\n",
    "    def function_name():\n",
    "        statements...\n",
    "        ......"
   ]
  },
  {
   "cell_type": "code",
   "execution_count": 2,
   "id": "69152e49",
   "metadata": {},
   "outputs": [
    {
     "name": "stdout",
     "output_type": "stream",
     "text": [
      "hello\n"
     ]
    }
   ],
   "source": [
    "va1= \"hello\"\n",
    "print(va1)"
   ]
  },
  {
   "cell_type": "code",
   "execution_count": 3,
   "id": "5ba83dee",
   "metadata": {},
   "outputs": [
    {
     "ename": "NameError",
     "evalue": "name 'name' is not defined",
     "output_type": "error",
     "traceback": [
      "\u001b[1;31m---------------------------------------------------------------------------\u001b[0m",
      "\u001b[1;31mNameError\u001b[0m                                 Traceback (most recent call last)",
      "Cell \u001b[1;32mIn[3], line 4\u001b[0m\n\u001b[0;32m      1\u001b[0m \u001b[38;5;28;01mclass\u001b[39;00m \u001b[38;5;21;01mcolor\u001b[39;00m:\n\u001b[0;32m      2\u001b[0m     name\u001b[38;5;241m=\u001b[39m\u001b[38;5;124m\"\u001b[39m\u001b[38;5;124mred\u001b[39m\u001b[38;5;124m\"\u001b[39m\n\u001b[1;32m----> 4\u001b[0m \u001b[38;5;28mprint\u001b[39m(name)\n",
      "\u001b[1;31mNameError\u001b[0m: name 'name' is not defined"
     ]
    }
   ],
   "source": [
    "class color:\n",
    "    name=\"red\"\n",
    "    \n",
    "print(name)\n",
    "    "
   ]
  },
  {
   "cell_type": "code",
   "execution_count": 5,
   "id": "d7ee735a",
   "metadata": {},
   "outputs": [
    {
     "name": "stdout",
     "output_type": "stream",
     "text": [
      "<__main__.color object at 0x000001A2CEF38990>\n",
      "<__main__.color object at 0x000001A2CEB85910>\n"
     ]
    }
   ],
   "source": [
    "class color:\n",
    "    name=\"red\"\n",
    "    \n",
    "obj = color()\n",
    "obj1 = color()\n",
    "print(obj)\n",
    "print(obj1)"
   ]
  },
  {
   "cell_type": "code",
   "execution_count": 6,
   "id": "dda9ac8b",
   "metadata": {},
   "outputs": [
    {
     "data": {
      "text/plain": [
       "'red'"
      ]
     },
     "execution_count": 6,
     "metadata": {},
     "output_type": "execute_result"
    }
   ],
   "source": [
    "obj.name"
   ]
  },
  {
   "cell_type": "code",
   "execution_count": 7,
   "id": "54ed5561",
   "metadata": {},
   "outputs": [
    {
     "data": {
      "text/plain": [
       "'red'"
      ]
     },
     "execution_count": 7,
     "metadata": {},
     "output_type": "execute_result"
    }
   ],
   "source": [
    "obj1.name"
   ]
  },
  {
   "cell_type": "code",
   "execution_count": 8,
   "id": "7addb2fa",
   "metadata": {},
   "outputs": [
    {
     "data": {
      "text/plain": [
       "'red'"
      ]
     },
     "execution_count": 8,
     "metadata": {},
     "output_type": "execute_result"
    }
   ],
   "source": [
    "color.name"
   ]
  },
  {
   "cell_type": "code",
   "execution_count": 16,
   "id": "3dd8ff46",
   "metadata": {},
   "outputs": [
    {
     "name": "stdout",
     "output_type": "stream",
     "text": [
      "im hello method\n",
      "im inside the color class\n"
     ]
    }
   ],
   "source": [
    "class color:\n",
    "    def fun(self):\n",
    "        print(\"im inside the color class\")\n",
    "    def hello(self):\n",
    "        print(\"im hello method\")\n",
    "obj = color()\n",
    "obj.hello()\n",
    "obj.fun()\n"
   ]
  },
  {
   "cell_type": "code",
   "execution_count": 19,
   "id": "5328f7b5",
   "metadata": {},
   "outputs": [
    {
     "name": "stdout",
     "output_type": "stream",
     "text": [
      "The color is blue num = 10\n"
     ]
    }
   ],
   "source": [
    "class color:\n",
    "    name = \"blue\"\n",
    "    n = 10\n",
    "    def fun(self):\n",
    "        print(f\"The color is {self.name} num = {self.n}\")\n",
    "obj = color()\n",
    "obj.fun()"
   ]
  },
  {
   "cell_type": "code",
   "execution_count": 26,
   "id": "fdd91b65",
   "metadata": {},
   "outputs": [
    {
     "name": "stdout",
     "output_type": "stream",
     "text": [
      "duck\n",
      "1\n",
      "updated weight of duck is 725\n",
      "updated weight of duck is 670\n"
     ]
    }
   ],
   "source": [
    "class Bird:\n",
    "    birdname = \"duck\"\n",
    "    age = 1\n",
    "    color = \"white\"\n",
    "    weight = 700\n",
    "    def eat(self,amount_eat):\n",
    "        print(f\"updated weight of {self.birdname} is {self.weight+amount_eat}\")\n",
    "        \n",
    "    def out(self, amount_out):\n",
    "        print(f\"updated weight of {self.birdname} is {self.weight-amount_out}\")\n",
    "        \n",
    "    \n",
    "        \n",
    "\n",
    "ob = Bird()\n",
    "print(ob.birdname)\n",
    "print(ob.age)\n",
    "ob.eat(25)\n",
    "ob.out(30)"
   ]
  },
  {
   "cell_type": "code",
   "execution_count": null,
   "id": "292d0f13",
   "metadata": {},
   "outputs": [],
   "source": []
  }
 ],
 "metadata": {
  "kernelspec": {
   "display_name": "Python 3 (ipykernel)",
   "language": "python",
   "name": "python3"
  },
  "language_info": {
   "codemirror_mode": {
    "name": "ipython",
    "version": 3
   },
   "file_extension": ".py",
   "mimetype": "text/x-python",
   "name": "python",
   "nbconvert_exporter": "python",
   "pygments_lexer": "ipython3",
   "version": "3.11.5"
  }
 },
 "nbformat": 4,
 "nbformat_minor": 5
}
