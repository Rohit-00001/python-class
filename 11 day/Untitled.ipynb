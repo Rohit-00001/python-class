{
 "cells": [
  {
   "cell_type": "markdown",
   "id": "77b56b98",
   "metadata": {},
   "source": [
    "# List , tuple , set , dictonary"
   ]
  },
  {
   "cell_type": "code",
   "execution_count": null,
   "id": "7e256121",
   "metadata": {},
   "outputs": [],
   "source": [
    "lists are mutable --> we can modify the data"
   ]
  },
  {
   "cell_type": "code",
   "execution_count": 1,
   "id": "8baea24d",
   "metadata": {},
   "outputs": [],
   "source": [
    "num = [1,2,3,4]"
   ]
  },
  {
   "cell_type": "code",
   "execution_count": 2,
   "id": "aa8b4c3b",
   "metadata": {},
   "outputs": [
    {
     "name": "stdout",
     "output_type": "stream",
     "text": [
      "[1, 2, 3, 4]\n"
     ]
    }
   ],
   "source": [
    "print(num)"
   ]
  },
  {
   "cell_type": "code",
   "execution_count": 3,
   "id": "375439dc",
   "metadata": {},
   "outputs": [],
   "source": [
    "num= [\"hello\"]"
   ]
  },
  {
   "cell_type": "code",
   "execution_count": 4,
   "id": "60343221",
   "metadata": {},
   "outputs": [
    {
     "name": "stdout",
     "output_type": "stream",
     "text": [
      "['hello']\n"
     ]
    }
   ],
   "source": [
    "print(num\n",
    "     )"
   ]
  },
  {
   "cell_type": "code",
   "execution_count": 5,
   "id": "15f7b23c",
   "metadata": {},
   "outputs": [],
   "source": [
    "num = [1,2,3,4,\"java\", \"cricket\"]"
   ]
  },
  {
   "cell_type": "code",
   "execution_count": 6,
   "id": "6738e690",
   "metadata": {},
   "outputs": [
    {
     "name": "stdout",
     "output_type": "stream",
     "text": [
      "[1, 2, 3, 4, 'java', 'cricket']\n"
     ]
    }
   ],
   "source": [
    "print(num)"
   ]
  },
  {
   "cell_type": "code",
   "execution_count": 7,
   "id": "3a68a755",
   "metadata": {},
   "outputs": [
    {
     "data": {
      "text/plain": [
       "2"
      ]
     },
     "execution_count": 7,
     "metadata": {},
     "output_type": "execute_result"
    }
   ],
   "source": [
    "num[1]"
   ]
  },
  {
   "cell_type": "code",
   "execution_count": 8,
   "id": "e83742d6",
   "metadata": {},
   "outputs": [
    {
     "data": {
      "text/plain": [
       "'cricket'"
      ]
     },
     "execution_count": 8,
     "metadata": {},
     "output_type": "execute_result"
    }
   ],
   "source": [
    "num[-1]"
   ]
  },
  {
   "cell_type": "code",
   "execution_count": 9,
   "id": "472a6527",
   "metadata": {},
   "outputs": [
    {
     "data": {
      "text/plain": [
       "1"
      ]
     },
     "execution_count": 9,
     "metadata": {},
     "output_type": "execute_result"
    }
   ],
   "source": [
    "num[0]"
   ]
  },
  {
   "cell_type": "code",
   "execution_count": 10,
   "id": "3c435197",
   "metadata": {},
   "outputs": [
    {
     "data": {
      "text/plain": [
       "[3, 4, 'java', 'cricket']"
      ]
     },
     "execution_count": 10,
     "metadata": {},
     "output_type": "execute_result"
    }
   ],
   "source": [
    "num[2:]"
   ]
  },
  {
   "cell_type": "code",
   "execution_count": 11,
   "id": "e9ab1eab",
   "metadata": {},
   "outputs": [
    {
     "data": {
      "text/plain": [
       "[3, 4]"
      ]
     },
     "execution_count": 11,
     "metadata": {},
     "output_type": "execute_result"
    }
   ],
   "source": [
    "num[2:4]"
   ]
  },
  {
   "cell_type": "code",
   "execution_count": 13,
   "id": "40dd9c5c",
   "metadata": {},
   "outputs": [],
   "source": [
    "name=[\"ravi\",\"hari\",\"syam\"]"
   ]
  },
  {
   "cell_type": "code",
   "execution_count": 14,
   "id": "16749421",
   "metadata": {},
   "outputs": [
    {
     "name": "stdout",
     "output_type": "stream",
     "text": [
      "['ravi', 'hari', 'syam']\n"
     ]
    }
   ],
   "source": [
    "print(name)"
   ]
  },
  {
   "cell_type": "code",
   "execution_count": 15,
   "id": "86ec285f",
   "metadata": {},
   "outputs": [],
   "source": [
    "total = [num , name]"
   ]
  },
  {
   "cell_type": "code",
   "execution_count": 16,
   "id": "131d8bde",
   "metadata": {},
   "outputs": [
    {
     "name": "stdout",
     "output_type": "stream",
     "text": [
      "[[1, 2, 3, 4, 'java', 'cricket'], ['ravi', 'hari', 'syam']]\n"
     ]
    }
   ],
   "source": [
    "print(total)"
   ]
  },
  {
   "cell_type": "code",
   "execution_count": 17,
   "id": "ceecb0da",
   "metadata": {},
   "outputs": [],
   "source": [
    "num.append(2)"
   ]
  },
  {
   "cell_type": "code",
   "execution_count": 18,
   "id": "3e727ef5",
   "metadata": {},
   "outputs": [
    {
     "name": "stdout",
     "output_type": "stream",
     "text": [
      "[1, 2, 3, 4, 'java', 'cricket', 2]\n"
     ]
    }
   ],
   "source": [
    "print(num)"
   ]
  },
  {
   "cell_type": "code",
   "execution_count": 19,
   "id": "b9c4a772",
   "metadata": {},
   "outputs": [
    {
     "data": {
      "text/plain": [
       "2"
      ]
     },
     "execution_count": 19,
     "metadata": {},
     "output_type": "execute_result"
    }
   ],
   "source": [
    "num.pop()"
   ]
  },
  {
   "cell_type": "code",
   "execution_count": 20,
   "id": "4f5da579",
   "metadata": {},
   "outputs": [
    {
     "name": "stdout",
     "output_type": "stream",
     "text": [
      "[1, 2, 3, 4, 'java', 'cricket']\n"
     ]
    }
   ],
   "source": [
    "print(num)"
   ]
  },
  {
   "cell_type": "code",
   "execution_count": 21,
   "id": "1b594784",
   "metadata": {},
   "outputs": [],
   "source": [
    "num.insert(3,5)"
   ]
  },
  {
   "cell_type": "code",
   "execution_count": 22,
   "id": "378e05ef",
   "metadata": {},
   "outputs": [
    {
     "name": "stdout",
     "output_type": "stream",
     "text": [
      "[1, 2, 3, 5, 4, 'java', 'cricket']\n"
     ]
    }
   ],
   "source": [
    "print(num)"
   ]
  },
  {
   "cell_type": "code",
   "execution_count": 23,
   "id": "02a2ff8d",
   "metadata": {},
   "outputs": [],
   "source": [
    "num.remove(5)"
   ]
  },
  {
   "cell_type": "code",
   "execution_count": 24,
   "id": "3b50855e",
   "metadata": {},
   "outputs": [
    {
     "name": "stdout",
     "output_type": "stream",
     "text": [
      "[1, 2, 3, 4, 'java', 'cricket']\n"
     ]
    }
   ],
   "source": [
    "print(num)"
   ]
  },
  {
   "cell_type": "code",
   "execution_count": 25,
   "id": "df7cd7c9",
   "metadata": {},
   "outputs": [
    {
     "ename": "TypeError",
     "evalue": "'<' not supported between instances of 'str' and 'int'",
     "output_type": "error",
     "traceback": [
      "\u001b[1;31m---------------------------------------------------------------------------\u001b[0m",
      "\u001b[1;31mTypeError\u001b[0m                                 Traceback (most recent call last)",
      "Cell \u001b[1;32mIn[25], line 1\u001b[0m\n\u001b[1;32m----> 1\u001b[0m num\u001b[38;5;241m.\u001b[39msort()\n",
      "\u001b[1;31mTypeError\u001b[0m: '<' not supported between instances of 'str' and 'int'"
     ]
    }
   ],
   "source": [
    "num.sort()"
   ]
  },
  {
   "cell_type": "code",
   "execution_count": 26,
   "id": "8947b5b5",
   "metadata": {},
   "outputs": [],
   "source": [
    "num= [2,3,14,1,10]"
   ]
  },
  {
   "cell_type": "code",
   "execution_count": 27,
   "id": "58235c06",
   "metadata": {},
   "outputs": [],
   "source": [
    "num.sort()"
   ]
  },
  {
   "cell_type": "code",
   "execution_count": 28,
   "id": "7475d2b5",
   "metadata": {},
   "outputs": [
    {
     "name": "stdout",
     "output_type": "stream",
     "text": [
      "[1, 2, 3, 10, 14]\n"
     ]
    }
   ],
   "source": [
    "print(num)"
   ]
  },
  {
   "cell_type": "markdown",
   "id": "27115394",
   "metadata": {},
   "source": [
    "### tuples"
   ]
  },
  {
   "cell_type": "code",
   "execution_count": 29,
   "id": "6d8580fd",
   "metadata": {},
   "outputs": [],
   "source": [
    "#immutable ----> value cant be modified"
   ]
  },
  {
   "cell_type": "code",
   "execution_count": 41,
   "id": "6a45c76b",
   "metadata": {},
   "outputs": [],
   "source": [
    "a = (1,2,\"hello\",False,1,1,5)"
   ]
  },
  {
   "cell_type": "code",
   "execution_count": 36,
   "id": "54721963",
   "metadata": {},
   "outputs": [
    {
     "data": {
      "text/plain": [
       "'hello'"
      ]
     },
     "execution_count": 36,
     "metadata": {},
     "output_type": "execute_result"
    }
   ],
   "source": [
    "(1,2,\"hello\",False,1,1,5)\n",
    "a[2]"
   ]
  },
  {
   "cell_type": "code",
   "execution_count": 37,
   "id": "b513245e",
   "metadata": {},
   "outputs": [
    {
     "ename": "TypeError",
     "evalue": "'tuple' object does not support item assignment",
     "output_type": "error",
     "traceback": [
      "\u001b[1;31m---------------------------------------------------------------------------\u001b[0m",
      "\u001b[1;31mTypeError\u001b[0m                                 Traceback (most recent call last)",
      "Cell \u001b[1;32mIn[37], line 1\u001b[0m\n\u001b[1;32m----> 1\u001b[0m a[\u001b[38;5;241m2\u001b[39m]\u001b[38;5;241m=\u001b[39m \u001b[38;5;241m2\u001b[39m\n",
      "\u001b[1;31mTypeError\u001b[0m: 'tuple' object does not support item assignment"
     ]
    }
   ],
   "source": [
    "a[2]= 2"
   ]
  },
  {
   "cell_type": "code",
   "execution_count": 43,
   "id": "9157890c",
   "metadata": {},
   "outputs": [
    {
     "data": {
      "text/plain": [
       "3"
      ]
     },
     "execution_count": 43,
     "metadata": {},
     "output_type": "execute_result"
    }
   ],
   "source": [
    "a.count(1)"
   ]
  },
  {
   "cell_type": "markdown",
   "id": "2af3be3b",
   "metadata": {},
   "source": [
    "### set"
   ]
  },
  {
   "cell_type": "code",
   "execution_count": 51,
   "id": "0750983d",
   "metadata": {},
   "outputs": [],
   "source": [
    "a = {2,23,234,1, 0, 999,1221,12,2,23,999}"
   ]
  },
  {
   "cell_type": "code",
   "execution_count": 52,
   "id": "88d9e947",
   "metadata": {},
   "outputs": [
    {
     "name": "stdout",
     "output_type": "stream",
     "text": [
      "{0, 1, 2, 1221, 999, 234, 12, 23}\n"
     ]
    }
   ],
   "source": [
    "print(a)"
   ]
  },
  {
   "cell_type": "code",
   "execution_count": 53,
   "id": "9458b483",
   "metadata": {},
   "outputs": [],
   "source": [
    "a= 10\n",
    "b=20"
   ]
  },
  {
   "cell_type": "code",
   "execution_count": 55,
   "id": "323f68fa",
   "metadata": {},
   "outputs": [],
   "source": [
    "a,b = b,a"
   ]
  },
  {
   "cell_type": "code",
   "execution_count": 58,
   "id": "0afdfca5",
   "metadata": {},
   "outputs": [
    {
     "name": "stdout",
     "output_type": "stream",
     "text": [
      "20 10\n",
      "10 20\n"
     ]
    }
   ],
   "source": []
  },
  {
   "cell_type": "code",
   "execution_count": 59,
   "id": "de8d5a4f",
   "metadata": {},
   "outputs": [],
   "source": [
    "a=a+b\n",
    "a=a-b\n",
    "b=b-a"
   ]
  },
  {
   "cell_type": "markdown",
   "id": "646c7526",
   "metadata": {},
   "source": [
    "### Dict"
   ]
  },
  {
   "cell_type": "code",
   "execution_count": 63,
   "id": "3e34f19b",
   "metadata": {},
   "outputs": [],
   "source": [
    "#key:value\n",
    "#key must ne unique and immutable"
   ]
  },
  {
   "cell_type": "code",
   "execution_count": 64,
   "id": "f83b1cd3",
   "metadata": {},
   "outputs": [],
   "source": [
    "value ={\n",
    "    1: \"java\",\n",
    "    2: \"js\",\n",
    "    3: \"python\",\n",
    "    5: \"php\"\n",
    "    \n",
    "}"
   ]
  },
  {
   "cell_type": "code",
   "execution_count": 65,
   "id": "339b239a",
   "metadata": {},
   "outputs": [
    {
     "data": {
      "text/plain": [
       "'js'"
      ]
     },
     "execution_count": 65,
     "metadata": {},
     "output_type": "execute_result"
    }
   ],
   "source": [
    "value[2]"
   ]
  },
  {
   "cell_type": "code",
   "execution_count": 71,
   "id": "bb0297b2",
   "metadata": {},
   "outputs": [
    {
     "data": {
      "text/plain": [
       "'php'"
      ]
     },
     "execution_count": 71,
     "metadata": {},
     "output_type": "execute_result"
    }
   ],
   "source": [
    "value[5]"
   ]
  },
  {
   "cell_type": "code",
   "execution_count": 73,
   "id": "7839b207",
   "metadata": {},
   "outputs": [
    {
     "name": "stdout",
     "output_type": "stream",
     "text": [
      "python\n"
     ]
    }
   ],
   "source": [
    "print(value.get(3))"
   ]
  },
  {
   "cell_type": "code",
   "execution_count": 74,
   "id": "b268b5f7",
   "metadata": {},
   "outputs": [],
   "source": [
    "key = [1,2,3,4]\n",
    "value= [\"java\",\"php\",\"ruby\",\"golang\"]"
   ]
  },
  {
   "cell_type": "code",
   "execution_count": 77,
   "id": "c7cac561",
   "metadata": {},
   "outputs": [],
   "source": [
    "data =dict( zip(key,value))"
   ]
  },
  {
   "cell_type": "code",
   "execution_count": 78,
   "id": "059f9b05",
   "metadata": {},
   "outputs": [
    {
     "name": "stdout",
     "output_type": "stream",
     "text": [
      "{1: 'java', 2: 'php', 3: 'ruby', 4: 'golang'}\n"
     ]
    }
   ],
   "source": [
    "print(data)"
   ]
  },
  {
   "cell_type": "code",
   "execution_count": 79,
   "id": "a8463a2f",
   "metadata": {},
   "outputs": [
    {
     "data": {
      "text/plain": [
       "'php'"
      ]
     },
     "execution_count": 79,
     "metadata": {},
     "output_type": "execute_result"
    }
   ],
   "source": [
    "data[2]"
   ]
  },
  {
   "cell_type": "code",
   "execution_count": 81,
   "id": "75d907c6",
   "metadata": {},
   "outputs": [],
   "source": [
    "data[5]= \"js\""
   ]
  },
  {
   "cell_type": "code",
   "execution_count": 82,
   "id": "ca06acdc",
   "metadata": {},
   "outputs": [
    {
     "name": "stdout",
     "output_type": "stream",
     "text": [
      "{1: 'java', 2: 'php', 3: 'ruby', 4: 'golang', 5: 'js'}\n"
     ]
    }
   ],
   "source": [
    "print(data)"
   ]
  },
  {
   "cell_type": "code",
   "execution_count": 84,
   "id": "70c348f3",
   "metadata": {},
   "outputs": [],
   "source": [
    "del data[5]"
   ]
  },
  {
   "cell_type": "code",
   "execution_count": 85,
   "id": "787b985d",
   "metadata": {},
   "outputs": [
    {
     "name": "stdout",
     "output_type": "stream",
     "text": [
      "{1: 'java', 2: 'php', 3: 'ruby', 4: 'golang'}\n"
     ]
    }
   ],
   "source": [
    "print(data)"
   ]
  },
  {
   "cell_type": "code",
   "execution_count": null,
   "id": "3a96aae6",
   "metadata": {},
   "outputs": [],
   "source": [
    "\n",
    "\n",
    "\n",
    "\n",
    "\n",
    "\n"
   ]
  },
  {
   "cell_type": "code",
   "execution_count": 86,
   "id": "2ea8d329",
   "metadata": {},
   "outputs": [
    {
     "name": "stdout",
     "output_type": "stream",
     "text": [
      "22\n"
     ]
    }
   ],
   "source": [
    "a= 12\n",
    "b= 10\n",
    "c= a+b\n",
    "print (c)"
   ]
  },
  {
   "cell_type": "code",
   "execution_count": 92,
   "id": "bfcd414c",
   "metadata": {},
   "outputs": [
    {
     "name": "stdout",
     "output_type": "stream",
     "text": [
      "enter your 1st number12\n",
      "enter your 2nd number12\n",
      "sum is 22\n"
     ]
    }
   ],
   "source": [
    "a = int(input(\"enter your 1st number\"))\n",
    "\n",
    "b = int(input(\"enter your 2nd number\"))\n",
    "c= val1 + val2\n",
    "print (\"sum is\" ,c)\n"
   ]
  },
  {
   "cell_type": "code",
   "execution_count": null,
   "id": "8bb578db",
   "metadata": {},
   "outputs": [],
   "source": [
    ". Write a program to perform arithmetic operation.(+,-,\\*,/,%)\n",
    "\n",
    ". Write a program to display the area of a triangle.\n",
    "\n",
    ". Write a program to display area of a square.\n",
    "\n",
    ". Write a program to display area of a circle."
   ]
  },
  {
   "cell_type": "code",
   "execution_count": null,
   "id": "0cbe9bbb",
   "metadata": {},
   "outputs": [],
   "source": []
  }
 ],
 "metadata": {
  "kernelspec": {
   "display_name": "Python 3 (ipykernel)",
   "language": "python",
   "name": "python3"
  },
  "language_info": {
   "codemirror_mode": {
    "name": "ipython",
    "version": 3
   },
   "file_extension": ".py",
   "mimetype": "text/x-python",
   "name": "python",
   "nbconvert_exporter": "python",
   "pygments_lexer": "ipython3",
   "version": "3.11.5"
  }
 },
 "nbformat": 4,
 "nbformat_minor": 5
}
