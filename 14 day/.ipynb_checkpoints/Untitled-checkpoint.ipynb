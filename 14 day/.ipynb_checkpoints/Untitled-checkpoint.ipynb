{
 "cells": [
  {
   "cell_type": "markdown",
   "id": "79fe5af4",
   "metadata": {},
   "source": [
    "### For loop : iterating over a sequence \n",
    "    \n",
    "       syntax of for loop \n",
    "           \n",
    "               for i in collection:\n",
    "                   #statements/body"
   ]
  },
  {
   "cell_type": "code",
   "execution_count": 7,
   "id": "50ba2132",
   "metadata": {},
   "outputs": [
    {
     "name": "stdout",
     "output_type": "stream",
     "text": [
      "20 False 23 32 234234 32 "
     ]
    }
   ],
   "source": [
    "x = [20, False, 23,32,234234,32]\n",
    "\n",
    "for val in x:\n",
    "    print(val,end=\" \")\n",
    "\n"
   ]
  },
  {
   "cell_type": "code",
   "execution_count": 9,
   "id": "d4ba8b36",
   "metadata": {},
   "outputs": [
    {
     "name": "stdout",
     "output_type": "stream",
     "text": [
      "E,L,E,P,H,A,N,T,"
     ]
    }
   ],
   "source": [
    "string = \"ELEPHANT\"\n",
    "\n",
    "for letter in string:\n",
    "    print(letter,end=\",\")\n",
    "\n"
   ]
  },
  {
   "cell_type": "markdown",
   "id": "e16f4659",
   "metadata": {},
   "source": [
    "### range() : built-in function generates a sequence between the given interval"
   ]
  },
  {
   "cell_type": "code",
   "execution_count": 15,
   "id": "e38c748e",
   "metadata": {},
   "outputs": [
    {
     "name": "stdout",
     "output_type": "stream",
     "text": [
      "1 2 3 4 5 6 7 8 9 10 "
     ]
    }
   ],
   "source": [
    "for i in range(1,11):\n",
    "    print(i,end=\" \")"
   ]
  },
  {
   "cell_type": "code",
   "execution_count": 25,
   "id": "ecdf2769",
   "metadata": {},
   "outputs": [
    {
     "name": "stdout",
     "output_type": "stream",
     "text": [
      "enter your number200\n",
      "5 10 15 20 25 30 35 40 45 50 55 60 65 70 75 80 85 90 95 100 105 110 115 120 125 130 135 140 145 150 155 160 165 170 175 180 185 190 195 200 "
     ]
    }
   ],
   "source": [
    "num = int(input(\"enter your number\"))\n",
    "for i in range(1, num+1):\n",
    "    if(i%5==0):\n",
    "        print(i,end=\" \")\n",
    "   \n",
    "    "
   ]
  },
  {
   "cell_type": "code",
   "execution_count": 28,
   "id": "6f5cc5af",
   "metadata": {},
   "outputs": [
    {
     "name": "stdout",
     "output_type": "stream",
     "text": [
      "enter your number2\n",
      "2 X 1 = 2\n",
      "2 X 2 = 4\n",
      "2 X 3 = 6\n",
      "2 X 4 = 8\n",
      "2 X 5 = 10\n",
      "2 X 6 = 12\n",
      "2 X 7 = 14\n",
      "2 X 8 = 16\n",
      "2 X 9 = 18\n",
      "2 X 10 = 20\n"
     ]
    }
   ],
   "source": [
    "num = int(input(\"enter your number\"))\n",
    "for i in range(1,11):\n",
    "    res= num*i\n",
    "    print(f\"{num} X {i} = {res}\")"
   ]
  },
  {
   "cell_type": "markdown",
   "id": "8456c3c1",
   "metadata": {},
   "source": []
  }
 ],
 "metadata": {
  "kernelspec": {
   "display_name": "Python 3 (ipykernel)",
   "language": "python",
   "name": "python3"
  },
  "language_info": {
   "codemirror_mode": {
    "name": "ipython",
    "version": 3
   },
   "file_extension": ".py",
   "mimetype": "text/x-python",
   "name": "python",
   "nbconvert_exporter": "python",
   "pygments_lexer": "ipython3",
   "version": "3.11.5"
  }
 },
 "nbformat": 4,
 "nbformat_minor": 5
}
