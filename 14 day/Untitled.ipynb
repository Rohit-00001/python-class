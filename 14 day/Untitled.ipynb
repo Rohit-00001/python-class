{
 "cells": [
  {
   "cell_type": "markdown",
   "id": "370a2fd9",
   "metadata": {},
   "source": [
    "### For loop : iterating over a sequence \n",
    "    \n",
    "       syntax of for loop \n",
    "           \n",
    "               for i in collection:\n",
    "                   #statements/body"
   ]
  },
  {
   "cell_type": "code",
   "execution_count": 7,
   "id": "7ce2d9ec",
   "metadata": {},
   "outputs": [
    {
     "name": "stdout",
     "output_type": "stream",
     "text": [
      "20 False 23 32 234234 32 "
     ]
    }
   ],
   "source": [
    "x = [20, False, 23,32,234234,32]\n",
    "\n",
    "for val in x:\n",
    "    print(val,end=\" \")\n",
    "\n"
   ]
  },
  {
   "cell_type": "code",
   "execution_count": 9,
   "id": "fca76c0e",
   "metadata": {},
   "outputs": [
    {
     "name": "stdout",
     "output_type": "stream",
     "text": [
      "E,L,E,P,H,A,N,T,"
     ]
    }
   ],
   "source": [
    "string = \"ELEPHANT\"\n",
    "\n",
    "for letter in string:\n",
    "    print(letter,end=\",\")\n",
    "\n"
   ]
  },
  {
   "cell_type": "markdown",
   "id": "55c14d86",
   "metadata": {},
   "source": [
    "### range() : built-in function generates a sequence between the given interval"
   ]
  },
  {
   "cell_type": "code",
   "execution_count": 15,
   "id": "d2fe833f",
   "metadata": {},
   "outputs": [
    {
     "name": "stdout",
     "output_type": "stream",
     "text": [
      "1 2 3 4 5 6 7 8 9 10 "
     ]
    }
   ],
   "source": [
    "for i in range(1,11):\n",
    "    print(i,end=\" \")"
   ]
  },
  {
   "cell_type": "code",
   "execution_count": 25,
   "id": "2c307108",
   "metadata": {},
   "outputs": [
    {
     "name": "stdout",
     "output_type": "stream",
     "text": [
      "enter your number200\n",
      "5 10 15 20 25 30 35 40 45 50 55 60 65 70 75 80 85 90 95 100 105 110 115 120 125 130 135 140 145 150 155 160 165 170 175 180 185 190 195 200 "
     ]
    }
   ],
   "source": [
    "num = int(input(\"enter your number\"))\n",
    "for i in range(1, num+1):\n",
    "    if(i%5==0):\n",
    "        print(i,end=\" \")\n",
    "   \n",
    "    "
   ]
  },
  {
   "cell_type": "code",
   "execution_count": 28,
   "id": "b1b3e0ab",
   "metadata": {},
   "outputs": [
    {
     "name": "stdout",
     "output_type": "stream",
     "text": [
      "enter your number2\n",
      "2 X 1 = 2\n",
      "2 X 2 = 4\n",
      "2 X 3 = 6\n",
      "2 X 4 = 8\n",
      "2 X 5 = 10\n",
      "2 X 6 = 12\n",
      "2 X 7 = 14\n",
      "2 X 8 = 16\n",
      "2 X 9 = 18\n",
      "2 X 10 = 20\n"
     ]
    }
   ],
   "source": [
    "num = int(input(\"enter your number\"))\n",
    "for i in range(1,11):\n",
    "    res= num*i\n",
    "    print(f\"{num} X {i} = {res}\")"
   ]
  },
  {
   "cell_type": "markdown",
   "id": "1984dc0a",
   "metadata": {},
   "source": [
    "        "
   ]
  },
  {
   "cell_type": "markdown",
   "id": "5602dca8",
   "metadata": {},
   "source": [
    "###\n",
    "1. wap to find the product of the digits of any entered number\n",
    "2. wap to enter any string and print the vowels present in the string\n",
    "3. wap to print the factors of an entered number\n",
    "4. wap to check if the entered string is pallindrome or not\n",
    "5. wap to check if the entered number is pallindrome or not\n",
    "6. wap to count the number of digits and alphabets present in the entered string"
   ]
  },
  {
   "cell_type": "code",
   "execution_count": 31,
   "id": "ddf929a0",
   "metadata": {},
   "outputs": [
    {
     "data": {
      "text/plain": [
       "'olleh'"
      ]
     },
     "execution_count": 31,
     "metadata": {},
     "output_type": "execute_result"
    }
   ],
   "source": [
    "initial = \"hello\"\n",
    "initial[::-1]"
   ]
  },
  {
   "cell_type": "code",
   "execution_count": 2,
   "id": "57f2ca86",
   "metadata": {},
   "outputs": [
    {
     "name": "stdout",
     "output_type": "stream",
     "text": [
      "enter your valuehello\n",
      "olleh\n"
     ]
    }
   ],
   "source": [
    "val = input(\"enter your value\")\n",
    "\n",
    "reversed = \"\"\n",
    "\n",
    "for s in val:\n",
    "    reversed = s + reversed\n",
    "print(reversed)\n",
    "\n"
   ]
  },
  {
   "cell_type": "markdown",
   "id": "f83312fa",
   "metadata": {},
   "source": [
    "### jump statements ---> it is used to break the normal flow of the program"
   ]
  },
  {
   "cell_type": "markdown",
   "id": "d0c81d9e",
   "metadata": {},
   "source": [
    "### break statement:\n"
   ]
  },
  {
   "cell_type": "code",
   "execution_count": 5,
   "id": "7c2ffdf0",
   "metadata": {},
   "outputs": [
    {
     "name": "stdout",
     "output_type": "stream",
     "text": [
      "1\n"
     ]
    }
   ],
   "source": [
    "for i in range (1, 11):\n",
    "    print(i)\n",
    "    break"
   ]
  },
  {
   "cell_type": "code",
   "execution_count": 12,
   "id": "86a9af79",
   "metadata": {},
   "outputs": [
    {
     "name": "stdout",
     "output_type": "stream",
     "text": [
      "1\n",
      "2\n",
      "3\n",
      "4\n",
      "5\n"
     ]
    }
   ],
   "source": [
    "for i in range(1, 21):\n",
    "    if i%6==0:\n",
    "        break\n",
    "    print(i)"
   ]
  },
  {
   "cell_type": "markdown",
   "id": "1becc594",
   "metadata": {},
   "source": [
    "### continue: this keyword is used to prevail the iteration of the loop \n"
   ]
  },
  {
   "cell_type": "code",
   "execution_count": 15,
   "id": "1582c8d2",
   "metadata": {
    "scrolled": true
   },
   "outputs": [
    {
     "name": "stdout",
     "output_type": "stream",
     "text": [
      "10\n",
      "11\n",
      "12\n",
      "13\n",
      "14\n",
      "15\n",
      "16\n",
      "17\n",
      "18\n",
      "19\n",
      "20\n"
     ]
    }
   ],
   "source": [
    "for i in range(10,21):\n",
    "    print(i)\n",
    "    "
   ]
  },
  {
   "cell_type": "code",
   "execution_count": 17,
   "id": "a7b330be",
   "metadata": {},
   "outputs": [
    {
     "name": "stdout",
     "output_type": "stream",
     "text": [
      "in between coninue 10\n",
      "11\n",
      "in between coninue 12\n",
      "13\n",
      "in between coninue 14\n",
      "15\n",
      "in between coninue 16\n",
      "17\n",
      "in between coninue 18\n",
      "19\n",
      "in between coninue 20\n"
     ]
    }
   ],
   "source": [
    "for i in range(10,21):\n",
    "    if i%2 ==0:\n",
    "        print(\"in between coninue\",i)\n",
    "        continue\n",
    "    print(i)"
   ]
  },
  {
   "cell_type": "markdown",
   "id": "34543fe3",
   "metadata": {},
   "source": [
    "### pass: this keyword is used to pss the staements to write the empty conditions"
   ]
  },
  {
   "cell_type": "code",
   "execution_count": 21,
   "id": "f14aaa35",
   "metadata": {},
   "outputs": [
    {
     "name": "stdout",
     "output_type": "stream",
     "text": [
      "hello\n"
     ]
    }
   ],
   "source": [
    "if 2>3:\n",
    "    pass\n",
    "else:\n",
    "    print(\"hello\")"
   ]
  },
  {
   "cell_type": "code",
   "execution_count": 24,
   "id": "6cd7af88",
   "metadata": {},
   "outputs": [
    {
     "name": "stdout",
     "output_type": "stream",
     "text": [
      "hello\n"
     ]
    }
   ],
   "source": [
    "for i in \"python\":\n",
    "    pass\n",
    "print(\"hello\")"
   ]
  },
  {
   "cell_type": "code",
   "execution_count": null,
   "id": "a4627840",
   "metadata": {},
   "outputs": [],
   "source": []
  }
 ],
 "metadata": {
  "kernelspec": {
   "display_name": "Python 3 (ipykernel)",
   "language": "python",
   "name": "python3"
  },
  "language_info": {
   "codemirror_mode": {
    "name": "ipython",
    "version": 3
   },
   "file_extension": ".py",
   "mimetype": "text/x-python",
   "name": "python",
   "nbconvert_exporter": "python",
   "pygments_lexer": "ipython3",
   "version": "3.11.5"
  }
 },
 "nbformat": 4,
 "nbformat_minor": 5
}
