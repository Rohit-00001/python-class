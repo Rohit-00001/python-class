{
 "cells": [
  {
   "cell_type": "markdown",
   "id": "a0e76e0c",
   "metadata": {},
   "source": [
    "### funtions:  A reusable piece of code .\n"
   ]
  },
  {
   "cell_type": "code",
   "execution_count": null,
   "id": "c5b47f0a",
   "metadata": {},
   "outputs": [],
   "source": [
    "# function defination\n",
    "#function call"
   ]
  },
  {
   "cell_type": "code",
   "execution_count": 5,
   "id": "2bcc4323",
   "metadata": {},
   "outputs": [
    {
     "name": "stdout",
     "output_type": "stream",
     "text": [
      "hello\n",
      "hello\n",
      "hello\n",
      "hello\n",
      "hello\n",
      "hello\n"
     ]
    }
   ],
   "source": [
    "print(\"hello\")\n",
    "print(\"hello\")\n",
    "print(\"hello\")\n",
    "print(\"hello\")\n",
    "\n",
    "print(\"hello\")\n",
    "print(\"hello\")\n",
    "\n"
   ]
  },
  {
   "cell_type": "markdown",
   "id": "506c2483",
   "metadata": {},
   "source": [
    "### syntax:\n",
    "            \n",
    "                def function_name:\n",
    "                        function body\n",
    "                        .....\n",
    "                        .....\n",
    "                        \n",
    "                  function_name()"
   ]
  },
  {
   "cell_type": "code",
   "execution_count": 9,
   "id": "42bcaa8e",
   "metadata": {},
   "outputs": [
    {
     "name": "stdout",
     "output_type": "stream",
     "text": [
      "hello\n",
      "hello\n"
     ]
    }
   ],
   "source": [
    "def greet():\n",
    "    print(\"hello\")\n",
    "    \n",
    "    \n",
    "greet()\n",
    "greet()"
   ]
  },
  {
   "cell_type": "code",
   "execution_count": 11,
   "id": "c9164463",
   "metadata": {},
   "outputs": [
    {
     "name": "stdout",
     "output_type": "stream",
     "text": [
      "30\n",
      "30\n"
     ]
    }
   ],
   "source": [
    "def add():\n",
    "    a= 20\n",
    "    b= 10\n",
    "    print(a+b)\n",
    "    \n",
    "add()\n",
    "add()"
   ]
  },
  {
   "cell_type": "markdown",
   "id": "a4f39d87",
   "metadata": {},
   "source": [
    "### function with Arguements\n",
    "\n"
   ]
  },
  {
   "cell_type": "code",
   "execution_count": 15,
   "id": "625bb7f0",
   "metadata": {},
   "outputs": [
    {
     "name": "stdout",
     "output_type": "stream",
     "text": [
      "function with no arguements\n",
      "function with no arguements\n"
     ]
    }
   ],
   "source": [
    "def add():\n",
    "   \n",
    "    print(\"function with no arguements\")\n",
    "    \n",
    "add()\n",
    "add()"
   ]
  },
  {
   "cell_type": "code",
   "execution_count": 16,
   "id": "919a7008",
   "metadata": {},
   "outputs": [
    {
     "name": "stdout",
     "output_type": "stream",
     "text": [
      "5\n"
     ]
    },
    {
     "ename": "TypeError",
     "evalue": "sum() missing 1 required positional argument: 'y'",
     "output_type": "error",
     "traceback": [
      "\u001b[1;31m---------------------------------------------------------------------------\u001b[0m",
      "\u001b[1;31mTypeError\u001b[0m                                 Traceback (most recent call last)",
      "Cell \u001b[1;32mIn[16], line 8\u001b[0m\n\u001b[0;32m      4\u001b[0m     \u001b[38;5;28mprint\u001b[39m(a\u001b[38;5;241m+\u001b[39mb)\n\u001b[0;32m      7\u001b[0m \u001b[38;5;28msum\u001b[39m(\u001b[38;5;241m2\u001b[39m,\u001b[38;5;241m3\u001b[39m)\n\u001b[1;32m----> 8\u001b[0m \u001b[38;5;28msum\u001b[39m(\u001b[38;5;241m200000\u001b[39m)\n",
      "\u001b[1;31mTypeError\u001b[0m: sum() missing 1 required positional argument: 'y'"
     ]
    }
   ],
   "source": [
    "def sum(x,y):\n",
    "    a= x\n",
    "    b=y\n",
    "    print(a+b)\n",
    "    \n",
    "    \n",
    "sum(2,3)\n",
    "sum(200000,100000)\n",
    "    "
   ]
  },
  {
   "cell_type": "code",
   "execution_count": 19,
   "id": "07a22201",
   "metadata": {},
   "outputs": [
    {
     "name": "stdout",
     "output_type": "stream",
     "text": [
      "102\n",
      "200100\n"
     ]
    }
   ],
   "source": [
    "#default arguements\n",
    "\n",
    "def sum(x,y=100):\n",
    "    a= x\n",
    "    b=y\n",
    "    print(a+b)\n",
    "    \n",
    "    \n",
    "sum(2)\n",
    "sum(200000)"
   ]
  },
  {
   "cell_type": "code",
   "execution_count": 22,
   "id": "331ac25c",
   "metadata": {},
   "outputs": [
    {
     "name": "stdout",
     "output_type": "stream",
     "text": [
      "(4, 5)\n"
     ]
    }
   ],
   "source": [
    "#multiple arguements\n",
    "def sum(*args):\n",
    "    print(args)\n",
    "sum(2,3,4,5)\n",
    "\n",
    "\n",
    "def sum(x,y,*args):\n",
    "    print(args)\n",
    "sum(2,3,4,5)"
   ]
  },
  {
   "cell_type": "markdown",
   "id": "f3fc6208",
   "metadata": {},
   "source": [
    "  ### fucntion with return "
   ]
  },
  {
   "cell_type": "code",
   "execution_count": 29,
   "id": "874461db",
   "metadata": {},
   "outputs": [
    {
     "name": "stdout",
     "output_type": "stream",
     "text": [
      "2 output\n",
      "2 output 2\n"
     ]
    }
   ],
   "source": [
    "def cool(x):\n",
    "    return x\n",
    "\n",
    "res=cool(2)\n",
    "print(res, \"output\")\n",
    "print(f\"{res} output 2\")"
   ]
  },
  {
   "cell_type": "code",
   "execution_count": 34,
   "id": "0f7cc40a",
   "metadata": {},
   "outputs": [
    {
     "name": "stdout",
     "output_type": "stream",
     "text": [
      "11.559999999999999\n"
     ]
    }
   ],
   "source": [
    "#area of circle using function\n",
    "\n",
    "def area_circle(r):\n",
    "    res = r* r\n",
    "    return res\n",
    "    \n",
    "    \n",
    "output = area_circle(3.4)\n",
    "print(output)"
   ]
  },
  {
   "cell_type": "code",
   "execution_count": null,
   "id": "c4f28b6a",
   "metadata": {},
   "outputs": [],
   "source": [
    "wap to calculate the area and perimeter of cube\n",
    "\n",
    "wap to calculate the Surface area and volume of cylinder\n",
    "\n",
    "wap to convert Celsius to Fahrenheit vice versa\n",
    "\n",
    "write a function isPrime and use that function to print all the prime numbers between 100- 250\n",
    "\n",
    "write a function isPrime and use that function to print all the prime numbers between 100- 2000\n",
    "\n",
    "create a function to find all the perfect numbers present between the numbers given by the user"
   ]
  },
  {
   "cell_type": "code",
   "execution_count": null,
   "id": "b4abfb97",
   "metadata": {},
   "outputs": [],
   "source": []
  },
  {
   "cell_type": "code",
   "execution_count": null,
   "id": "73344818",
   "metadata": {},
   "outputs": [],
   "source": []
  },
  {
   "cell_type": "code",
   "execution_count": null,
   "id": "5eacace0",
   "metadata": {},
   "outputs": [],
   "source": []
  },
  {
   "cell_type": "code",
   "execution_count": null,
   "id": "5b2c49cf",
   "metadata": {},
   "outputs": [],
   "source": []
  },
  {
   "cell_type": "code",
   "execution_count": null,
   "id": "ec38908a",
   "metadata": {},
   "outputs": [],
   "source": []
  }
 ],
 "metadata": {
  "kernelspec": {
   "display_name": "Python 3 (ipykernel)",
   "language": "python",
   "name": "python3"
  },
  "language_info": {
   "codemirror_mode": {
    "name": "ipython",
    "version": 3
   },
   "file_extension": ".py",
   "mimetype": "text/x-python",
   "name": "python",
   "nbconvert_exporter": "python",
   "pygments_lexer": "ipython3",
   "version": "3.11.5"
  }
 },
 "nbformat": 4,
 "nbformat_minor": 5
}
