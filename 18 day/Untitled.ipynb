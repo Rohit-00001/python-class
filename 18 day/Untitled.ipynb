{
 "cells": [
  {
   "cell_type": "markdown",
   "id": "cbcb6bc5",
   "metadata": {},
   "source": [
    "## Constructor: \n",
    "\n",
    "      __init__ : A special kind of method generally used to set the initial values of the chararacterstics\n",
    "      \n",
    "      The constructor method is automatically called when object is created"
   ]
  },
  {
   "cell_type": "code",
   "execution_count": 4,
   "id": "2ec00c34",
   "metadata": {},
   "outputs": [
    {
     "name": "stdout",
     "output_type": "stream",
     "text": [
      "im inside the __init__ method\n",
      "im new mothod\n"
     ]
    }
   ],
   "source": [
    "class hello:\n",
    "    def __init__(self):\n",
    "        print(\"im inside the __init__ method\")\n",
    "        \n",
    "    def new_methd(self):\n",
    "        print(\"im new mothod\")\n",
    "        \n",
    "ob = hello()\n",
    "ob.new_methd()\n",
    "        \n",
    "        \n",
    "        "
   ]
  },
  {
   "cell_type": "code",
   "execution_count": 6,
   "id": "144a3471",
   "metadata": {},
   "outputs": [
    {
     "name": "stdout",
     "output_type": "stream",
     "text": [
      "Name = Mitu\n",
      "Age = 3\n",
      "Color = Yellow\n",
      "weight = 550\n",
      "updated value for weight is 562\n"
     ]
    }
   ],
   "source": [
    "class demo:\n",
    "    def __init__(self,birdname, age, color,weight):\n",
    "        self.birdname = birdname\n",
    "        self.age = age\n",
    "        self.color = color\n",
    "        self.weight = weight\n",
    "        \n",
    "        \n",
    "    def eat(self,amount):\n",
    "        self.weight+= amount\n",
    "        print(f\"updated value for weight is {self.weight}\")\n",
    "        \n",
    "    def info(self):\n",
    "        print(f\"Name = {self.birdname}\")\n",
    "        print(f\"Age = {self.age}\")\n",
    "        print(f\"Color = {self.color}\")\n",
    "        print(f\"weight = {self.weight}\")\n",
    "\n",
    "\n",
    "ob = demo(\"Mitu\",3, \"Yellow\",550)\n",
    "ob.info()\n",
    "ob.eat(12)\n"
   ]
  },
  {
   "cell_type": "code",
   "execution_count": 7,
   "id": "c25d88b1",
   "metadata": {},
   "outputs": [
    {
     "name": "stdout",
     "output_type": "stream",
     "text": [
      "Name = tota\n",
      "Age = 2\n",
      "Color = black\n",
      "weight = 300\n"
     ]
    }
   ],
   "source": [
    "ob1 = demo(\"tota\",2,\"black\",300)\n",
    "ob1.info()"
   ]
  },
  {
   "cell_type": "markdown",
   "id": "e42e9ba4",
   "metadata": {},
   "source": [
    "## Inheritance : When a child class receives all the properties from it parent class"
   ]
  },
  {
   "cell_type": "markdown",
   "id": "36930fc6",
   "metadata": {},
   "source": [
    "    #class A :                  //parent class\n",
    "        def Laptop():\n",
    "        \n",
    "    \n",
    "    #class B(A):                //child class\n",
    "        def Laptop():"
   ]
  },
  {
   "cell_type": "code",
   "execution_count": 12,
   "id": "594e8b1d",
   "metadata": {},
   "outputs": [
    {
     "name": "stdout",
     "output_type": "stream",
     "text": [
      "From parent sum is 6\n",
      "from child sub is 2\n",
      "From parent sum is 30\n"
     ]
    }
   ],
   "source": [
    "# Single inheritance\n",
    "class A:\n",
    "    def add(self,a,b):\n",
    "        print(f\"From parent sum is {a+b}\")\n",
    "\n",
    "class B(A):\n",
    "    def sub(self, a,b):\n",
    "        print(f\"from child sub is {a-b}\")\n",
    "        \n",
    "ob = A()\n",
    "ob.add(2,4)\n",
    "\n",
    "ob1 = B()\n",
    "ob1.sub(3,1)\n",
    "ob1.add(20,10)\n"
   ]
  },
  {
   "cell_type": "code",
   "execution_count": 14,
   "id": "2175568b",
   "metadata": {},
   "outputs": [
    {
     "name": "stdout",
     "output_type": "stream",
     "text": [
      "From parent sum is 3\n",
      "from class c mul is 2\n",
      "from child sub is -1\n"
     ]
    }
   ],
   "source": [
    "#Multiple Inheritance\n",
    "\n",
    "class A:\n",
    "    def add(self,a,b):\n",
    "        print(f\"From parent sum is {a+b}\")\n",
    "\n",
    "class B(A):\n",
    "    def sub(self, a,b):\n",
    "        print(f\"from child sub is {a-b}\")\n",
    "        \n",
    "class C(B):\n",
    "    def mul(self,a,b):\n",
    "        print(f\"from class c mul is {a*b}\")\n",
    "        \n",
    "\n",
    "# ob1 = A()\n",
    "# ob2 = B()\n",
    "ob3 = C()\n",
    "\n",
    "ob3.add(1,2)\n",
    "ob3.mul(1,2)\n",
    "ob3.sub(1,2)"
   ]
  },
  {
   "cell_type": "code",
   "execution_count": 16,
   "id": "25db73fe",
   "metadata": {},
   "outputs": [
    {
     "name": "stdout",
     "output_type": "stream",
     "text": [
      "From Class A sum is 5\n",
      "from Class B sub is 3\n",
      "from class C mul is 4\n"
     ]
    }
   ],
   "source": [
    "#Multilevel Inheritance\n",
    "\n",
    "class A:\n",
    "    def add(self,a,b):\n",
    "        print(f\"From Class A sum is {a+b}\")\n",
    "\n",
    "class B():\n",
    "    def sub(self, a,b):\n",
    "        print(f\"from Class B sub is {a-b}\")\n",
    "        \n",
    "class C(A,B):\n",
    "    def mul(self,a,b):\n",
    "        print(f\"from class C mul is {a*b}\")\n",
    "    \n",
    "\n",
    "              \n",
    "ob = C()\n",
    "ob.add(4,1)\n",
    "ob.sub(4,1)\n",
    "ob.mul(4,1)\n",
    "\n",
    "    "
   ]
  },
  {
   "cell_type": "code",
   "execution_count": 22,
   "id": "f374328d",
   "metadata": {},
   "outputs": [],
   "source": [
    "# Heirarchical Inheritance\n",
    "class A:\n",
    "    def add(self,a,b):\n",
    "        print(f\"From parent sum is {a+b}\")\n",
    "\n",
    "class B(A):\n",
    "    def sub(self, a,b):\n",
    "        print(f\"from child sub is {a-b}\")\n",
    "        \n",
    "class C(A):\n",
    "    def mul(self,a,b):\n",
    "        print(f\"from class c mul is {a*b}\")\n",
    "    \n",
    "class D(B,C):\n",
    "    def div(self,a,b):\n",
    "        print(f\"from class D {a/b}\")\n",
    "        \n",
    "        \n",
    "B---> D  (A,B)\n",
    "C->> D(A,C)"
   ]
  },
  {
   "cell_type": "code",
   "execution_count": 23,
   "id": "5fc30ae3",
   "metadata": {},
   "outputs": [
    {
     "name": "stdout",
     "output_type": "stream",
     "text": [
      "From parent sum is 6\n",
      "from child sub is 2\n",
      "from class D 2.0\n"
     ]
    }
   ],
   "source": [
    "ob = D()\n",
    "ob.add(4,2)\n",
    "ob.sub(4,2)\n",
    "ob.div(4,2)"
   ]
  },
  {
   "cell_type": "code",
   "execution_count": null,
   "id": "0d8ce77c",
   "metadata": {},
   "outputs": [],
   "source": []
  },
  {
   "cell_type": "code",
   "execution_count": null,
   "id": "0d809c97",
   "metadata": {},
   "outputs": [],
   "source": []
  },
  {
   "cell_type": "code",
   "execution_count": null,
   "id": "151fe88b",
   "metadata": {},
   "outputs": [],
   "source": []
  },
  {
   "cell_type": "code",
   "execution_count": null,
   "id": "615b88a7",
   "metadata": {},
   "outputs": [],
   "source": []
  },
  {
   "cell_type": "code",
   "execution_count": null,
   "id": "bf403565",
   "metadata": {},
   "outputs": [],
   "source": []
  },
  {
   "cell_type": "code",
   "execution_count": null,
   "id": "985989cd",
   "metadata": {},
   "outputs": [],
   "source": []
  },
  {
   "cell_type": "code",
   "execution_count": null,
   "id": "be06bcd7",
   "metadata": {},
   "outputs": [],
   "source": []
  }
 ],
 "metadata": {
  "kernelspec": {
   "display_name": "Python 3 (ipykernel)",
   "language": "python",
   "name": "python3"
  },
  "language_info": {
   "codemirror_mode": {
    "name": "ipython",
    "version": 3
   },
   "file_extension": ".py",
   "mimetype": "text/x-python",
   "name": "python",
   "nbconvert_exporter": "python",
   "pygments_lexer": "ipython3",
   "version": "3.11.5"
  }
 },
 "nbformat": 4,
 "nbformat_minor": 5
}
