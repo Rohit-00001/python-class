{
 "cells": [
  {
   "cell_type": "markdown",
   "id": "d9212fc9",
   "metadata": {},
   "source": [
    "### lambda function/ Anonymous function:These are the one liner functions that can be stored in a varibale\n",
    "            "
   ]
  },
  {
   "cell_type": "code",
   "execution_count": 7,
   "id": "15af025c",
   "metadata": {},
   "outputs": [
    {
     "name": "stdout",
     "output_type": "stream",
     "text": [
      "30\n"
     ]
    }
   ],
   "source": [
    "\n",
    "# def add(a,b):\n",
    "#     return a+b\n",
    "\n",
    "#syntax ---> lambda parameters : function defination\n",
    "add = lambda a,b : a+b\n",
    "\n",
    "\n",
    "data = add(10,20)\n",
    "print(data)\n",
    "\n",
    "\n",
    "    \n",
    "    "
   ]
  },
  {
   "cell_type": "code",
   "execution_count": 8,
   "id": "665d3ea3",
   "metadata": {},
   "outputs": [
    {
     "data": {
      "text/plain": [
       "'Heloo nick and fury'"
      ]
     },
     "execution_count": 8,
     "metadata": {},
     "output_type": "execute_result"
    }
   ],
   "source": [
    "\n",
    "var = lambda arg1,arg2 : f'Heloo {arg1} and {arg2}'\n",
    "\n",
    "var(\"nick\",\"fury\")"
   ]
  },
  {
   "cell_type": "code",
   "execution_count": null,
   "id": "344f8259",
   "metadata": {},
   "outputs": [],
   "source": [
    "# sum of numbers from 1-n\n"
   ]
  },
  {
   "cell_type": "code",
   "execution_count": 11,
   "id": "dcf000a7",
   "metadata": {},
   "outputs": [
    {
     "data": {
      "text/plain": [
       "3"
      ]
     },
     "execution_count": 11,
     "metadata": {},
     "output_type": "execute_result"
    }
   ],
   "source": [
    "sum_num = lambda n : n if n==1 else n+sum_num(n-1)\n",
    "sum_num(2)"
   ]
  },
  {
   "cell_type": "code",
   "execution_count": 12,
   "id": "60fd0fb2",
   "metadata": {},
   "outputs": [],
   "source": [
    "#built-in functions"
   ]
  },
  {
   "cell_type": "code",
   "execution_count": 13,
   "id": "89cf5d51",
   "metadata": {},
   "outputs": [
    {
     "data": {
      "text/plain": [
       "15"
      ]
     },
     "execution_count": 13,
     "metadata": {},
     "output_type": "execute_result"
    }
   ],
   "source": [
    "#sum\n",
    "sum([1,2,3,4,5])"
   ]
  },
  {
   "cell_type": "code",
   "execution_count": 14,
   "id": "79aa97b1",
   "metadata": {},
   "outputs": [
    {
     "data": {
      "text/plain": [
       "15"
      ]
     },
     "execution_count": 14,
     "metadata": {},
     "output_type": "execute_result"
    }
   ],
   "source": [
    "values = [1,2,3,4,5]\n",
    "sum(values)"
   ]
  },
  {
   "cell_type": "code",
   "execution_count": 15,
   "id": "81fe7303",
   "metadata": {},
   "outputs": [
    {
     "data": {
      "text/plain": [
       "5"
      ]
     },
     "execution_count": 15,
     "metadata": {},
     "output_type": "execute_result"
    }
   ],
   "source": [
    "#len\n",
    "len(\"hello\")"
   ]
  },
  {
   "cell_type": "code",
   "execution_count": 17,
   "id": "11466c25",
   "metadata": {},
   "outputs": [
    {
     "data": {
      "text/plain": [
       "2"
      ]
     },
     "execution_count": 17,
     "metadata": {},
     "output_type": "execute_result"
    }
   ],
   "source": [
    "#min\n",
    "values = [2,3,4,5]\n",
    "min(values)"
   ]
  },
  {
   "cell_type": "code",
   "execution_count": 18,
   "id": "7a153857",
   "metadata": {},
   "outputs": [
    {
     "data": {
      "text/plain": [
       "232434"
      ]
     },
     "execution_count": 18,
     "metadata": {},
     "output_type": "execute_result"
    }
   ],
   "source": [
    "#max\n",
    "values=[23,232434,56,235,23]\n",
    "max(values)"
   ]
  },
  {
   "cell_type": "code",
   "execution_count": 21,
   "id": "3d65d87e",
   "metadata": {},
   "outputs": [
    {
     "data": {
      "text/plain": [
       "27"
      ]
     },
     "execution_count": 21,
     "metadata": {},
     "output_type": "execute_result"
    }
   ],
   "source": [
    "#pow\n",
    "\n",
    "pow(3,3)"
   ]
  },
  {
   "cell_type": "code",
   "execution_count": 6,
   "id": "727276a0",
   "metadata": {},
   "outputs": [
    {
     "data": {
      "text/plain": [
       "'a'"
      ]
     },
     "execution_count": 6,
     "metadata": {},
     "output_type": "execute_result"
    }
   ],
   "source": [
    "chr(97)"
   ]
  },
  {
   "cell_type": "code",
   "execution_count": 7,
   "id": "bda5819c",
   "metadata": {},
   "outputs": [
    {
     "data": {
      "text/plain": [
       "37"
      ]
     },
     "execution_count": 7,
     "metadata": {},
     "output_type": "execute_result"
    }
   ],
   "source": [
    "ord('%')"
   ]
  },
  {
   "cell_type": "code",
   "execution_count": 9,
   "id": "6ebfff17",
   "metadata": {},
   "outputs": [
    {
     "data": {
      "text/plain": [
       "'0x0'"
      ]
     },
     "execution_count": 9,
     "metadata": {},
     "output_type": "execute_result"
    }
   ],
   "source": [
    "hex(000)"
   ]
  },
  {
   "cell_type": "code",
   "execution_count": 11,
   "id": "faf45f79",
   "metadata": {},
   "outputs": [
    {
     "data": {
      "text/plain": [
       "'0o157'"
      ]
     },
     "execution_count": 11,
     "metadata": {},
     "output_type": "execute_result"
    }
   ],
   "source": [
    "\n",
    "oct(111)"
   ]
  },
  {
   "cell_type": "code",
   "execution_count": 13,
   "id": "d1ba3901",
   "metadata": {},
   "outputs": [
    {
     "data": {
      "text/plain": [
       "[1, 2, 3, 4, 5, 23, 52, 77]"
      ]
     },
     "execution_count": 13,
     "metadata": {},
     "output_type": "execute_result"
    }
   ],
   "source": [
    "values = (2,4,1,23,3,52,5,77,)\n",
    "\n",
    "sorted(values)"
   ]
  },
  {
   "cell_type": "code",
   "execution_count": 18,
   "id": "bc86f826",
   "metadata": {},
   "outputs": [
    {
     "data": {
      "text/plain": [
       "'d'"
      ]
     },
     "execution_count": 18,
     "metadata": {},
     "output_type": "execute_result"
    }
   ],
   "source": [
    "values =('z','d','s','f')\n",
    "min(values)\n",
    "# sorted(values)"
   ]
  },
  {
   "cell_type": "code",
   "execution_count": 28,
   "id": "ad5587d0",
   "metadata": {},
   "outputs": [
    {
     "name": "stdout",
     "output_type": "stream",
     "text": [
      "[2, 4, 52]\n"
     ]
    }
   ],
   "source": [
    "#filter\n",
    "values = [2,4,1,23,3,52,5,77,]\n",
    "\n",
    "even = lambda a : a %2==0\n",
    "\n",
    "filter_values =list(filter(even , values))\n",
    "print(filter_values)\n",
    "\n",
    "\n"
   ]
  },
  {
   "cell_type": "code",
   "execution_count": 25,
   "id": "c0ed8903",
   "metadata": {},
   "outputs": [
    {
     "name": "stdout",
     "output_type": "stream",
     "text": [
      "[6, 12, 3, 69, 9, 156, 15, 231]\n"
     ]
    }
   ],
   "source": [
    "#map\n",
    "values = [2,4,1,23,3,52,5,77,]\n",
    "\n",
    "output = lambda a : a*2\n",
    "\n",
    "res=list(map(output,values))\n",
    "\n",
    "print(res)\n",
    "\n",
    "\n",
    "\n"
   ]
  },
  {
   "cell_type": "code",
   "execution_count": 31,
   "id": "52490dcd",
   "metadata": {},
   "outputs": [
    {
     "name": "stdout",
     "output_type": "stream",
     "text": [
      "167\n"
     ]
    }
   ],
   "source": [
    "#reduce \n",
    "from functools import reduce \n",
    "\n",
    "\n",
    "values = [2,4,1,23,3,52,5,77,]\n",
    "\n",
    "red = lambda a,b : a+b\n",
    "a= 30\n",
    "b= 3\n",
    "res = reduce(red,values)\n",
    "print(res)"
   ]
  },
  {
   "cell_type": "code",
   "execution_count": 32,
   "id": "c28ad145",
   "metadata": {},
   "outputs": [],
   "source": [
    "#recursion---> when a fucntion that call itself is called a recursive function and that process is called recursion"
   ]
  },
  {
   "cell_type": "code",
   "execution_count": 2,
   "id": "6ac50676",
   "metadata": {},
   "outputs": [
    {
     "data": {
      "text/plain": [
       "1"
      ]
     },
     "execution_count": 2,
     "metadata": {},
     "output_type": "execute_result"
    }
   ],
   "source": [
    "def factor(n):\n",
    "    \n",
    "    if n == 0:\n",
    "        return 1\n",
    "    else:\n",
    "        return n*factor(n-1)\n",
    "\n",
    "factor(0)"
   ]
  },
  {
   "cell_type": "code",
   "execution_count": 38,
   "id": "ba93491c",
   "metadata": {},
   "outputs": [
    {
     "data": {
      "text/plain": [
       "6"
      ]
     },
     "execution_count": 38,
     "metadata": {},
     "output_type": "execute_result"
    }
   ],
   "source": [
    "3*2*1"
   ]
  },
  {
   "cell_type": "code",
   "execution_count": null,
   "id": "d1f8e3be",
   "metadata": {},
   "outputs": [],
   "source": []
  },
  {
   "cell_type": "code",
   "execution_count": null,
   "id": "98759e18",
   "metadata": {},
   "outputs": [],
   "source": []
  },
  {
   "cell_type": "code",
   "execution_count": null,
   "id": "d7eaf56d",
   "metadata": {},
   "outputs": [],
   "source": []
  }
 ],
 "metadata": {
  "kernelspec": {
   "display_name": "Python 3 (ipykernel)",
   "language": "python",
   "name": "python3"
  },
  "language_info": {
   "codemirror_mode": {
    "name": "ipython",
    "version": 3
   },
   "file_extension": ".py",
   "mimetype": "text/x-python",
   "name": "python",
   "nbconvert_exporter": "python",
   "pygments_lexer": "ipython3",
   "version": "3.11.5"
  }
 },
 "nbformat": 4,
 "nbformat_minor": 5
}
